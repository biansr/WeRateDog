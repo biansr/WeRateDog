{
 "cells": [
  {
   "cell_type": "code",
   "execution_count": null,
   "metadata": {},
   "outputs": [],
   "source": [
    "tweet_id=WRD_arch['tweet_id']\n",
    "df_list = []\n",
    "for id_of_tweet in tweet_id[128:132]:\n",
    "    try:        \n",
    "        tweet = api.get_status(id_of_tweet,tweet_mode='extended')\n",
    "        retweet_count = tweet.retweet_count\n",
    "        favorite_count= tweet.favorite_count\n",
    "# Append to list of dictionaries\n",
    "        df_list.append({'tweet_id': id_of_tweet,\n",
    "                        'retweet_count': retweet_count,\n",
    "                        'favorite_count': favorite_count})\n",
    "    except:\n",
    "        df_list.append({'tweet_id': id_of_tweet,\n",
    "                        'retweet_count': 'NaN',\n",
    "                        'favorite_count': 'NaN'})"
   ]
  }
 ],
 "metadata": {
  "kernelspec": {
   "display_name": "Python 2",
   "language": "python",
   "name": "python2"
  },
  "language_info": {
   "codemirror_mode": {
    "name": "ipython",
    "version": 2
   },
   "file_extension": ".py",
   "mimetype": "text/x-python",
   "name": "python",
   "nbconvert_exporter": "python",
   "pygments_lexer": "ipython2",
   "version": "2.7.13"
  }
 },
 "nbformat": 4,
 "nbformat_minor": 2
}
